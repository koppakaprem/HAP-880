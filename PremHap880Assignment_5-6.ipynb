{
 "cells": [
  {
   "cell_type": "code",
   "execution_count": 13,
   "metadata": {},
   "outputs": [],
   "source": [
    "import pandas as pd\n",
    "import numpy as np\n",
    "from matplotlib import pyplot \n",
    "import sqlite3\n",
    "from sklearn.model_selection import train_test_split\n",
    "from sklearn.linear_model import LogisticRegression\n",
    "from sklearn.ensemble import RandomForestClassifier\n",
    "from sklearn import metrics\n",
    "\n"
   ]
  },
  {
   "cell_type": "code",
   "execution_count": 4,
   "metadata": {},
   "outputs": [],
   "source": [
    "connect = sqlite3.connect('/Users/koppakapremsai/Downloads/testClaims_hu.db')\n",
    "df = pd.read_sql('select * from highUtilizationPredictionV2wco', connect)\n",
    "#creating dummies for attribute race\n",
    "race = pd.get_dummies(df['race'], dummy_na=False)\n",
    "df=pd.concat([df,race], axis=1)\n",
    "# split into training and testing\n",
    "tr, ts = train_test_split(df, test_size=0.2)\n",
    "# create list of input attributes\n",
    "cols = list(df.columns)\n",
    "cols.remove('index')\n",
    "cols.remove('race')\n",
    "cols.remove('patient_id')\n",
    "cols.remove('claimCount')\n",
    "cols.remove('HighUtilizationY2')"
   ]
  },
  {
   "cell_type": "code",
   "execution_count": 6,
   "metadata": {},
   "outputs": [
    {
     "data": {
      "text/plain": [
       "LogisticRegression(C=0.9, class_weight=None, dual=False, fit_intercept=True,\n",
       "                   intercept_scaling=1, l1_ratio=None, max_iter=1000,\n",
       "                   multi_class='warn', n_jobs=None, penalty='l2',\n",
       "                   random_state=None, solver='lbfgs', tol=0.0001, verbose=0,\n",
       "                   warm_start=False)"
      ]
     },
     "execution_count": 6,
     "metadata": {},
     "output_type": "execute_result"
    }
   ],
   "source": [
    "logr = LogisticRegression(solver='lbfgs', C=0.9, max_iter=1000)\n",
    "logr.fit(tr[cols], tr['HighUtilizationY2'])"
   ]
  },
  {
   "cell_type": "code",
   "execution_count": 7,
   "metadata": {},
   "outputs": [
    {
     "data": {
      "text/plain": [
       "RandomForestClassifier(bootstrap=True, class_weight=None, criterion='gini',\n",
       "                       max_depth=None, max_features='auto', max_leaf_nodes=None,\n",
       "                       min_impurity_decrease=0.0, min_impurity_split=None,\n",
       "                       min_samples_leaf=1, min_samples_split=2,\n",
       "                       min_weight_fraction_leaf=0.0, n_estimators=100,\n",
       "                       n_jobs=-1, oob_score=False, random_state=None, verbose=0,\n",
       "                       warm_start=False)"
      ]
     },
     "execution_count": 7,
     "metadata": {},
     "output_type": "execute_result"
    }
   ],
   "source": [
    "randfo = RandomForestClassifier(n_estimators=100, n_jobs=-1)\n",
    "randfo.fit(tr[cols], tr['HighUtilizationY2'])"
   ]
  },
  {
   "cell_type": "code",
   "execution_count": 8,
   "metadata": {},
   "outputs": [],
   "source": [
    "probs_lr_tr = logr.predict_proba(tr[cols])[:,1]\n",
    "probs_lr_ts = logr.predict_proba(ts[cols])[:,1]\n",
    "probs_rf_tr = randfo.predict_proba(tr[cols])[:,1]\n",
    "probs_rf_ts = randfo.predict_proba(ts[cols])[:,1]"
   ]
  },
  {
   "cell_type": "code",
   "execution_count": 9,
   "metadata": {},
   "outputs": [],
   "source": [
    "from sklearn.calibration import CalibratedClassifierCV, calibration_curve\n",
    "calcur = calibration_curve(ts['HighUtilizationY2'],probs_rf_ts, n_bins=10)\n"
   ]
  },
  {
   "cell_type": "code",
   "execution_count": 17,
   "metadata": {},
   "outputs": [
    {
     "data": {
      "text/plain": [
       "[<matplotlib.lines.Line2D at 0x7fc8cf36e590>]"
      ]
     },
     "execution_count": 17,
     "metadata": {},
     "output_type": "execute_result"
    },
    {
     "data": {
      "image/png": "[encoded data removed]",
      "text/plain": [
       "<Figure size 432x288 with 1 Axes>"
      ]
     },
     "metadata": {
      "needs_background": "light"
     },
     "output_type": "display_data"
    }
   ],
   "source": [
    "pyplot.plot(calcur[1],calcur[0])"
   ]
  },
  {
   "cell_type": "code",
   "execution_count": 18,
   "metadata": {},
   "outputs": [
    {
     "data": {
      "text/plain": [
       "(array([1.7275e+04, 3.0820e+03, 1.2850e+03, 4.4400e+02, 2.5800e+02,\n",
       "        1.3700e+02, 8.5000e+01, 3.2000e+01, 4.0000e+00, 3.0000e+00]),\n",
       " array([0. , 0.1, 0.2, 0.3, 0.4, 0.5, 0.6, 0.7, 0.8, 0.9, 1. ]),\n",
       " <a list of 1 Patch objects>)"
      ]
     },
     "execution_count": 18,
     "metadata": {},
     "output_type": "execute_result"
    },
    {
     "data": {
      "image/png": "[encoded data removed]",
      "text/plain": [
       "<Figure size 432x288 with 1 Axes>"
      ]
     },
     "metadata": {
      "needs_background": "light"
     },
     "output_type": "display_data"
    }
   ],
   "source": [
    "pyplot.hist(probs_rf_ts, range=(0, 1), bins=10, histtype=\"step\", lw=2)"
   ]
  },
  {
   "cell_type": "code",
   "execution_count": 20,
   "metadata": {},
   "outputs": [],
   "source": [
    "rf_iso = CalibratedClassifierCV(randfo, cv=5, method='isotonic')"
   ]
  },
  {
   "cell_type": "code",
   "execution_count": 22,
   "metadata": {},
   "outputs": [
    {
     "data": {
      "text/plain": [
       "CalibratedClassifierCV(base_estimator=RandomForestClassifier(bootstrap=True,\n",
       "                                                             class_weight=None,\n",
       "                                                             criterion='gini',\n",
       "                                                             max_depth=None,\n",
       "                                                             max_features='auto',\n",
       "                                                             max_leaf_nodes=None,\n",
       "                                                             min_impurity_decrease=0.0,\n",
       "                                                             min_impurity_split=None,\n",
       "                                                             min_samples_leaf=1,\n",
       "                                                             min_samples_split=2,\n",
       "                                                             min_weight_fraction_leaf=0.0,\n",
       "                                                             n_estimators=100,\n",
       "                                                             n_jobs=-1,\n",
       "                                                             oob_score=False,\n",
       "                                                             random_state=None,\n",
       "                                                             verbose=0,\n",
       "                                                             warm_start=False),\n",
       "                       cv=5, method='isotonic')"
      ]
     },
     "execution_count": 22,
     "metadata": {},
     "output_type": "execute_result"
    }
   ],
   "source": [
    "rf_sig = CalibratedClassifierCV(randfo, cv=5, method='sigmoid')\n",
    "rf_iso.fit(tr[cols], tr['HighUtilizationY2'])"
   ]
  },
  {
   "cell_type": "code",
   "execution_count": 23,
   "metadata": {},
   "outputs": [
    {
     "data": {
      "text/plain": [
       "CalibratedClassifierCV(base_estimator=RandomForestClassifier(bootstrap=True,\n",
       "                                                             class_weight=None,\n",
       "                                                             criterion='gini',\n",
       "                                                             max_depth=None,\n",
       "                                                             max_features='auto',\n",
       "                                                             max_leaf_nodes=None,\n",
       "                                                             min_impurity_decrease=0.0,\n",
       "                                                             min_impurity_split=None,\n",
       "                                                             min_samples_leaf=1,\n",
       "                                                             min_samples_split=2,\n",
       "                                                             min_weight_fraction_leaf=0.0,\n",
       "                                                             n_estimators=100,\n",
       "                                                             n_jobs=-1,\n",
       "                                                             oob_score=False,\n",
       "                                                             random_state=None,\n",
       "                                                             verbose=0,\n",
       "                                                             warm_start=False),\n",
       "                       cv=5, method='sigmoid')"
      ]
     },
     "execution_count": 23,
     "metadata": {},
     "output_type": "execute_result"
    }
   ],
   "source": [
    "rf_sig.fit(tr[cols], tr['HighUtilizationY2'])"
   ]
  },
  {
   "cell_type": "code",
   "execution_count": 24,
   "metadata": {},
   "outputs": [],
   "source": [
    "probs_rf_tr_iso = rf_iso.predict_proba(tr[cols])[:,1]\n",
    "probs_rf_ts_iso = rf_iso.predict_proba(ts[cols])[:,1]\n",
    "probs_rf_tr_sig = rf_sig.predict_proba(tr[cols])[:,1]\n",
    "probs_rf_ts_sig = rf_sig.predict_proba(ts[cols])[:,1]"
   ]
  },
  {
   "cell_type": "code",
   "execution_count": 25,
   "metadata": {},
   "outputs": [],
   "source": [
    "cur_rf_tr_iso = calibration_curve(tr['HighUtilizationY2'],probs_rf_tr_iso, n_bins=10)\n",
    "cur_rf_ts_iso = calibration_curve(ts['HighUtilizationY2'],probs_rf_ts_iso, n_bins=10)\n",
    "cur_rf_tr_sig = calibration_curve(tr['HighUtilizationY2'],probs_rf_tr_sig, n_bins=10)\n",
    "cur_rf_ts_sig = calibration_curve(ts['HighUtilizationY2'],probs_rf_ts_sig, n_bins=10)"
   ]
  },
  {
   "cell_type": "code",
   "execution_count": 26,
   "metadata": {},
   "outputs": [
    {
     "data": {
      "text/plain": [
       "[<matplotlib.lines.Line2D at 0x7fc8e5f93950>]"
      ]
     },
     "execution_count": 26,
     "metadata": {},
     "output_type": "execute_result"
    },
    {
     "data": {
      "image/png": "[encoded data removed]",
      "text/plain": [
       "<Figure size 432x288 with 1 Axes>"
      ]
     },
     "metadata": {
      "needs_background": "light"
     },
     "output_type": "display_data"
    }
   ],
   "source": [
    "pyplot.plot(cur_rf_ts_iso[1],cur_rf_ts_iso[0])\n",
    "\n",
    "\n"
   ]
  },
  {
   "cell_type": "code",
   "execution_count": 27,
   "metadata": {},
   "outputs": [
    {
     "data": {
      "text/plain": [
       "[<matplotlib.lines.Line2D at 0x7fc8e79df910>]"
      ]
     },
     "execution_count": 27,
     "metadata": {},
     "output_type": "execute_result"
    },
    {
     "data": {
      "image/png": "[encoded data removed]",
      "text/plain": [
       "<Figure size 432x288 with 1 Axes>"
      ]
     },
     "metadata": {
      "needs_background": "light"
     },
     "output_type": "display_data"
    }
   ],
   "source": [
    "pyplot.plot(cur_rf_ts_sig[1],cur_rf_ts_sig[0])\n",
    "\n",
    "\n"
   ]
  },
  {
   "cell_type": "code",
   "execution_count": 30,
   "metadata": {},
   "outputs": [
    {
     "data": {
      "text/plain": [
       "[<matplotlib.lines.Line2D at 0x7fc8e6548a90>]"
      ]
     },
     "execution_count": 30,
     "metadata": {},
     "output_type": "execute_result"
    },
    {
     "data": {
      "image/png": "[encoded data removed]",
      "text/plain": [
       "<Figure size 432x288 with 1 Axes>"
      ]
     },
     "metadata": {
      "needs_background": "light"
     },
     "output_type": "display_data"
    }
   ],
   "source": [
    "\n",
    "pyplot.plot(calcur[1],calcur[0])\n",
    "\n"
   ]
  },
  {
   "cell_type": "code",
   "execution_count": 32,
   "metadata": {},
   "outputs": [
    {
     "data": {
      "text/plain": [
       "[<matplotlib.lines.Line2D at 0x7fc8e585e790>]"
      ]
     },
     "execution_count": 32,
     "metadata": {},
     "output_type": "execute_result"
    },
    {
     "data": {
      "image/png": "[encoded data removed]",
      "text/plain": [
       "<Figure size 432x288 with 1 Axes>"
      ]
     },
     "metadata": {
      "needs_background": "light"
     },
     "output_type": "display_data"
    }
   ],
   "source": [
    "plt.plot(cur_rf_ts_iso[1],cur_rf_ts_iso[0])\n",
    "plt.plot(cur_rf_ts_sig[1],cur_rf_ts_sig[0])\n",
    "plt.plot(calcur[1],calcur[0])\n",
    "\n"
   ]
  },
  {
   "cell_type": "code",
   "execution_count": 33,
   "metadata": {},
   "outputs": [],
   "source": [
    "#Experiment with claims close to 100 claims high utilization boundary."
   ]
  },
  {
   "cell_type": "code",
   "execution_count": 37,
   "metadata": {},
   "outputs": [
    {
     "name": "stdout",
     "output_type": "stream",
     "text": [
      "0.9957402865625403\n",
      "0.9989798520785514\n",
      "0.9979473144030107\n",
      "0.9969924812030075\n",
      "0.9945167923235092\n",
      "0.9932692307692308\n",
      "0.9859550561797753\n",
      "0.9855072463768116\n",
      "0.9840546697038725\n",
      "0.9527272727272728\n",
      "0.14925373134328357\n",
      "0.034482758620689655\n",
      "0.030303030303030304\n",
      "0.06015037593984962\n",
      "0.07894736842105263\n",
      "0.05263157894736842\n",
      "0.058823529411764705\n",
      "0.18032786885245902\n",
      "0.07547169811320754\n",
      "0.0784313725490196\n",
      "0.06818181818181818\n",
      "0.15384615384615385\n",
      "0.2\n",
      "0.03571428571428571\n",
      "0.25\n",
      "0.05263157894736842\n",
      "0.16666666666666666\n",
      "0.25\n",
      "0.11764705882352941\n",
      "0.25\n"
     ]
    }
   ],
   "source": [
    "from sklearn.metrics import auc\n",
    "from sklearn.metrics import roc_curve\n",
    "from sklearn.metrics import accuracy_score\n",
    "\n",
    "lr = LogisticRegression(solver='lbfgs', C=0.9, max_iter=1000)\n",
    "lr.fit(tr[cols],tr['HighUtilizationY2'])\n",
    "probs = lr.predict_proba(ts[cols])[:,1]\n",
    "fpr,tpr,thresholds = roc_curve(ts['HighUtilizationY2'],probs)\n",
    "auc(fpr,tpr)\n",
    "accuracys = []\n",
    "for cnt in range(0,300,10):\n",
    "    tt = ts[(ts['claimCount'] >= cnt) & (ts['claimCount'] < cnt + 10)]\n",
    "    probs = lr.predict(tt[cols])\n",
    "    acc = accuracy_score(probs,tt['HighUtilizationY2'])\n",
    "    print(acc)\n",
    "    accuracys.append(acc)"
   ]
  },
  {
   "cell_type": "code",
   "execution_count": 39,
   "metadata": {},
   "outputs": [
    {
     "data": {
      "text/plain": [
       "<BarContainer object of 30 artists>"
      ]
     },
     "execution_count": 39,
     "metadata": {},
     "output_type": "execute_result"
    },
    {
     "data": {
      "image/png": "[encoded data removed]",
      "text/plain": [
       "<Figure size 432x288 with 1 Axes>"
      ]
     },
     "metadata": {
      "needs_background": "light"
     },
     "output_type": "display_data"
    }
   ],
   "source": [
    "#plotting accuracies\n",
    "pyplot.bar(range(0,300,10),accuracys)"
   ]
  },
  {
   "cell_type": "code",
   "execution_count": 40,
   "metadata": {},
   "outputs": [
    {
     "name": "stdout",
     "output_type": "stream",
     "text": [
      "0.9972892732670712\n",
      "0.9979597041571028\n",
      "0.9993157714676703\n",
      "0.9949874686716792\n",
      "0.9972583961617546\n",
      "0.9961538461538462\n",
      "0.9901685393258427\n",
      "0.9818840579710145\n",
      "0.979498861047836\n",
      "0.9818181818181818\n",
      "0.14925373134328357\n",
      "0.024630541871921183\n",
      "0.03636363636363636\n",
      "0.045112781954887216\n",
      "0.07894736842105263\n",
      "0.07894736842105263\n",
      "0.1323529411764706\n",
      "0.19672131147540983\n",
      "0.11320754716981132\n",
      "0.13725490196078433\n",
      "0.09090909090909091\n",
      "0.15384615384615385\n",
      "0.28\n",
      "0.10714285714285714\n",
      "0.16666666666666666\n",
      "0.21052631578947367\n",
      "0.2916666666666667\n",
      "0.3125\n",
      "0.29411764705882354\n",
      "0.5\n"
     ]
    }
   ],
   "source": [
    "rf = RandomForestClassifier(n_estimators=100, n_jobs=-1)  \n",
    "rf.fit(tr[cols],tr['HighUtilizationY2'])  \n",
    "probs = rf.predict_proba(ts[cols])[:,1]  \n",
    "fpr,tpr,thresholds = roc_curve(ts['HighUtilizationY2'],probs)  \n",
    "auc(fpr,tpr)\n",
    "accuracy = [] \n",
    "for cnt in range(0,300,10): \n",
    "    tt = ts[(ts['claimCount'] >= cnt) & (ts['claimCount'] < cnt + 10)] \n",
    "    probs = rf.predict(tt[cols]) \n",
    "    acc = accuracy_score(probs,tt['HighUtilizationY2']) \n",
    "    print(acc) \n",
    "    accuracy.append(acc)"
   ]
  },
  {
   "cell_type": "code",
   "execution_count": 41,
   "metadata": {},
   "outputs": [
    {
     "data": {
      "text/plain": [
       "<BarContainer object of 30 artists>"
      ]
     },
     "execution_count": 41,
     "metadata": {},
     "output_type": "execute_result"
    },
    {
     "data": {
      "image/png": "[encoded data removed]",
      "text/plain": [
       "<Figure size 432x288 with 1 Axes>"
      ]
     },
     "metadata": {
      "needs_background": "light"
     },
     "output_type": "display_data"
    }
   ],
   "source": [
    "pyplot.bar(range(0,300,10), accuracy)"
   ]
  },
  {
   "cell_type": "code",
   "execution_count": 42,
   "metadata": {},
   "outputs": [],
   "source": [
    "dat = []\n",
    "for a in range(65, 91):\n",
    "    for i in range(100):\n",
    "        age = a\n",
    "\n",
    "        # randomly select ELIX codes\n",
    "        ELIX = [np.random.randint(2) for i in range(29)]\n",
    "\n",
    "        # randomly select procedures\n",
    "        G = [np.random.randint(2) for i in range(22)]\n",
    "\n",
    "        # randomly select drug counts\n",
    "        drugs = [np.random.randint(13) for i in range(12)] \n",
    "\n",
    "        # zero all races\n",
    "        A = 0\n",
    "        AmN = 0\n",
    "        B = 0\n",
    "        H = 0\n",
    "        O = 0\n",
    "        U = 0\n",
    "        W = 0\n",
    "        # and randomly select race\n",
    "        r = np.random.randint(7)\n",
    "        if r == 0:\n",
    "            A = 1\n",
    "        if r == 1:\n",
    "            AmN = 1\n",
    "        if r == 2:\n",
    "            B = 1\n",
    "        if r == 3:\n",
    "            H = 1\n",
    "        if r == 4:\n",
    "            O = 1\n",
    "        if r == 5:\n",
    "            U = 1\n",
    "        if r == 6:\n",
    "            W = 1    \n",
    "        d = [age] + ELIX + G + drugs + [A, AmN, B, H, O, U, W]\n",
    "        dat.append(d)"
   ]
  },
  {
   "cell_type": "code",
   "execution_count": 43,
   "metadata": {},
   "outputs": [
    {
     "data": {
      "text/plain": [
       "[<matplotlib.lines.Line2D at 0x7fc8d1a18310>]"
      ]
     },
     "execution_count": 43,
     "metadata": {},
     "output_type": "execute_result"
    },
    {
     "data": {
      "image/png": "[encoded data removed]",
      "text/plain": [
       "<Figure size 432x288 with 1 Axes>"
      ]
     },
     "metadata": {
      "needs_background": "light"
     },
     "output_type": "display_data"
    }
   ],
   "source": [
    "Y = rf.predict_proba(dat)[:,1]\n",
    "X = np.array(dat)[:,0]\n",
    "plt.plot(X,Y)"
   ]
  },
  {
   "cell_type": "code",
   "execution_count": 44,
   "metadata": {},
   "outputs": [],
   "source": [
    "#2. Conduct sensitivity analysis for the testClaims data for predicting high utilization."
   ]
  },
  {
   "cell_type": "code",
   "execution_count": 46,
   "metadata": {},
   "outputs": [
    {
     "data": {
      "text/plain": [
       "[<matplotlib.lines.Line2D at 0x7fc8e8235810>]"
      ]
     },
     "execution_count": 46,
     "metadata": {},
     "output_type": "execute_result"
    },
    {
     "data": {
      "image/png": "[encoded data removed]",
      "text/plain": [
       "<Figure size 432x288 with 1 Axes>"
      ]
     },
     "metadata": {
      "needs_background": "light"
     },
     "output_type": "display_data"
    }
   ],
   "source": [
    "da = pd.DataFrame(X, columns=['age'])\n",
    "da['prob'] = Y\n",
    "Ya = da.groupby('age').mean()\n",
    "Xa = range(65,91)\n",
    "plt.plot(Xa,Ya)"
   ]
  },
  {
   "cell_type": "code",
   "execution_count": 47,
   "metadata": {},
   "outputs": [],
   "source": [
    "lr_res = [] \n",
    "rf_res = [] \n",
    "lr_races=[]\n",
    "rf_races=[]\n",
    "\n",
    "for i in range(100): \n",
    "    ELIX =[np.random.randint(2) for i in range(29)] \n",
    "    G =[np.random.randint(2) for i in range(22)] \n",
    "    drugs =[np.random.randint(30) for i in range(12)] \n",
    "    age = 65+np.random.randint(30)\n",
    "    A = 1 \n",
    "    AmN = 0 \n",
    "    B = 0 \n",
    "    H = 0 \n",
    "    O = 0 \n",
    "    U = 0 \n",
    "    W = 0          \n",
    "    d = [age] + ELIX + G + drugs + [A, AmN, B, H, O, U, W] \n",
    "    dat = [d] \n",
    "    lr_res.append(lr.predict_proba(dat)[:,1][0]) \n",
    "    rf_res.append(rf.predict_proba(dat)[:,1][0]) \n",
    "    lr_races.append(sum(lr_res)/len(lr_res)) \n",
    "    rf_races.append(sum(rf_res)/len(rf_res)) "
   ]
  },
  {
   "cell_type": "code",
   "execution_count": 48,
   "metadata": {},
   "outputs": [],
   "source": [
    "\n",
    "# Generating random data for race  AmN \n",
    "lr_res = [] \n",
    "rf_res = [] \n",
    "lr_races=[]\n",
    "rf_races=[]\n",
    "for i in range(100):  \n",
    "    ELIX = [np.random.randint(2) for i in range(29)] \n",
    "    G = [np.random.randint(2) for i in range(22)] \n",
    "    drugs = [np.random.randint(30) for i in range(12)] \n",
    "    age = 65+np.random.randint(30)\n",
    "    A = 0 \n",
    "    AmN = 1 \n",
    "    B = 0 \n",
    "    H = 0 \n",
    "    O = 0 \n",
    "    U = 0 \n",
    "    W = 0      \n",
    "    d = [age] + ELIX + G + drugs + [A, AmN, B, H, O, U, W] \n",
    "    dat = [d] \n",
    "    lr_res.append(lr.predict_proba(dat)[:,1][0]) \n",
    "    rf_res.append(rf.predict_proba(dat)[:,1][0]) \n",
    "lr_races.append(sum(lr_res)/len(lr_res)) \n",
    "rf_races.append(sum(rf_res)/len(rf_res)) \n",
    "# Generate random data for race  B \n",
    "lr_res = [] \n",
    "rf_res = [] \n",
    "lr_races=[]\n",
    "rf_races=[]\n",
    "for i in range(100):  \n",
    "    ELIX = [np.random.randint(2) for i in range(29)] \n",
    "    G = [np.random.randint(2) for i in range(22)] \n",
    "    drugs = [np.random.randint(30) for i in range(12)] \n",
    "    age = 65+np.random.randint(30)\n",
    "    A = 0 \n",
    "    AmN = 0 \n",
    "    B = 1 \n",
    "    H = 0 \n",
    "    O = 0 \n",
    "    U = 0 \n",
    "    W = 0      \n",
    "    d = [age] + ELIX + G + drugs + [A, AmN, B, H, O, U, W] \n",
    "    dat = [d] \n",
    "    lr_res.append(lr.predict_proba(dat)[:,1][0]) \n",
    "    rf_res.append(rf.predict_proba(dat)[:,1][0]) \n",
    "lr_races.append(sum(lr_res)/len(lr_res)) \n",
    "rf_races.append(sum(rf_res)/len(rf_res)) "
   ]
  },
  {
   "cell_type": "code",
   "execution_count": 49,
   "metadata": {},
   "outputs": [],
   "source": [
    "# Generating random data for race h\n",
    "lr_res = [] \n",
    "rf_res = [] \n",
    "lr_races=[]\n",
    "rf_races=[]\n",
    "for i in range(100):  \n",
    "    ELIX = [np.random.randint(2) for i in range(29)] \n",
    "    G = [np.random.randint(2) for i in range(22)] \n",
    "    drugs = [np.random.randint(30) for i in range(12)] \n",
    "    age = 65+np.random.randint(30)\n",
    "    A = 0 \n",
    "    AmN = 0 \n",
    "    B = 0\n",
    "    H = 1 \n",
    "    O = 0 \n",
    "    U = 0 \n",
    "    W = 0      \n",
    "    d = [age] + ELIX + G + drugs + [A, AmN, B, H, O, U, W] \n",
    "    dat = [d] \n",
    "    lr_res.append(lr.predict_proba(dat)[:,1][0]) \n",
    "    rf_res.append(rf.predict_proba(dat)[:,1][0]) \n",
    "lr_races.append(sum(lr_res)/len(lr_res)) \n",
    "rf_races.append(sum(rf_res)/len(rf_res)) \n",
    "# generate random data for race  O\n",
    "lr_res = [] \n",
    "rf_res = [] \n",
    "lr_races=[]\n",
    "rf_races=[]\n",
    "for i in range(100):  \n",
    "    ELIX = [np.random.randint(2) for i in range(29)] \n",
    "    G = [np.random.randint(2) for i in range(22)] \n",
    "    drugs = [np.random.randint(30) for i in range(12)] \n",
    "    age = 65+np.random.randint(30)\n",
    "    A = 0 \n",
    "    AmN = 0 \n",
    "    B = 0\n",
    "    H = 0 \n",
    "    O = 1 \n",
    "    U = 0 \n",
    "    W = 0      \n",
    "    d = [age] + ELIX + G + drugs + [A, AmN, B, H, O, U, W] \n",
    "    dat = [d] \n",
    "    lr_res.append(lr.predict_proba(dat)[:,1][0]) \n",
    "    rf_res.append(rf.predict_proba(dat)[:,1][0]) \n",
    "lr_races.append(sum(lr_res)/len(lr_res)) \n",
    "rf_races.append(sum(rf_res)/len(rf_res)) \n",
    "# generate random data for race = U\n",
    "lr_res = [] \n",
    "rf_res = [] \n",
    "lr_races=[]\n",
    "rf_races=[]\n",
    "for i in range(100):  \n",
    "    ELIX = [np.random.randint(2) for i in range(29)] \n",
    "    G = [np.random.randint(2) for i in range(22)] \n",
    "    drugs = [np.random.randint(30) for i in range(12)] \n",
    "    age = 65+np.random.randint(30)\n",
    "    A = 0 \n",
    "    AmN = 0 \n",
    "    B = 0 \n",
    "    H = 0 \n",
    "    O = 0 \n",
    "    U = 1\n",
    "    W = 0      \n",
    "    d = [age] + ELIX + G + drugs + [A, AmN, B, H, O, U, W] \n",
    "    dat = [d] \n",
    "    lr_res.append(lr.predict_proba(dat)[:,1][0]) \n",
    "    rf_res.append(rf.predict_proba(dat)[:,1][0]) \n",
    "lr_races.append(sum(lr_res)/len(lr_res)) \n",
    "rf_races.append(sum(rf_res)/len(rf_res)) "
   ]
  },
  {
   "cell_type": "code",
   "execution_count": 50,
   "metadata": {},
   "outputs": [],
   "source": [
    "# Generating random data for race W\n",
    "lr_res = [] \n",
    "rf_res = [] \n",
    "lr_races=[]\n",
    "rf_races=[]\n",
    "for i in range(100):  \n",
    "    ELIX = [np.random.randint(2) for i in range(29)] \n",
    "    G = [np.random.randint(2) for i in range(22)] \n",
    "    drugs = [np.random.randint(30) for i in range(12)] \n",
    "    age = 65+np.random.randint(30)\n",
    "    A = 0 \n",
    "    AmN = 0 \n",
    "    B = 0 \n",
    "    H = 0 \n",
    "    O = 0 \n",
    "    U = 0\n",
    "    W = 1      \n",
    "    d = [age] + ELIX + G + drugs + [A, AmN, B, H, O, U, W] \n",
    "    dat = [d] \n",
    "    lr_res.append(lr.predict_proba(dat)[:,1][0]) \n",
    "    rf_res.append(rf.predict_proba(dat)[:,1][0]) \n",
    "lr_races.append(sum(lr_res)/len(lr_res)) \n",
    "rf_races.append(sum(rf_res)/len(rf_res)) "
   ]
  },
  {
   "cell_type": "code",
   "execution_count": 52,
   "metadata": {},
   "outputs": [
    {
     "data": {
      "image/png": "[encoded data removed]",
      "text/plain": [
       "<Figure size 432x288 with 1 Axes>"
      ]
     },
     "metadata": {
      "needs_background": "light"
     },
     "output_type": "display_data"
    }
   ],
   "source": [
    "pyplot.bar(range(0,len(lr_races)*2,2), lr_races, color='red') \n",
    "pyplot.bar(range(1,len(rf_races)*2,2), rf_races, color='black') \n",
    "pyplot.show()"
   ]
  },
  {
   "cell_type": "code",
   "execution_count": 53,
   "metadata": {},
   "outputs": [],
   "source": [
    "#3. Select randomly two patients from testmcalims test set. \n",
    "#Conduct local sensitivity analysis for the prediction on these patients."
   ]
  },
  {
   "cell_type": "code",
   "execution_count": 54,
   "metadata": {},
   "outputs": [
    {
     "data": {
      "text/plain": [
       "array([[0.19      , 0.81      ],\n",
       "       [0.29      , 0.71      ],\n",
       "       [0.28      , 0.72      ],\n",
       "       [0.28      , 0.72      ],\n",
       "       [0.23      , 0.77      ],\n",
       "       [0.28      , 0.72      ],\n",
       "       [0.24      , 0.76      ],\n",
       "       [0.12      , 0.88      ],\n",
       "       [0.27733333, 0.72266667],\n",
       "       [0.18      , 0.82      ],\n",
       "       [0.05      , 0.95      ],\n",
       "       [0.27      , 0.73      ],\n",
       "       [0.24      , 0.76      ],\n",
       "       [0.25      , 0.75      ],\n",
       "       [0.04      , 0.96      ],\n",
       "       [0.19      , 0.81      ],\n",
       "       [0.29      , 0.71      ],\n",
       "       [0.24      , 0.76      ],\n",
       "       [0.27      , 0.73      ],\n",
       "       [0.29      , 0.71      ],\n",
       "       [0.29      , 0.71      ],\n",
       "       [0.25      , 0.75      ],\n",
       "       [0.26      , 0.74      ],\n",
       "       [0.2       , 0.8       ],\n",
       "       [0.25      , 0.75      ],\n",
       "       [0.23      , 0.77      ],\n",
       "       [0.1       , 0.9       ],\n",
       "       [0.28      , 0.72      ],\n",
       "       [0.22      , 0.78      ],\n",
       "       [0.18      , 0.82      ],\n",
       "       [0.29      , 0.71      ],\n",
       "       [0.29      , 0.71      ],\n",
       "       [0.17      , 0.83      ],\n",
       "       [0.26      , 0.74      ],\n",
       "       [0.26      , 0.74      ]])"
      ]
     },
     "execution_count": 54,
     "metadata": {},
     "output_type": "execute_result"
    }
   ],
   "source": [
    "p = rf.predict_proba(ts[cols])\n",
    "p[p[:,1] > 0.7]"
   ]
  },
  {
   "cell_type": "code",
   "execution_count": 55,
   "metadata": {},
   "outputs": [
    {
     "data": {
      "text/plain": [
       "(array([  172,   575,   693,  1524,  1568,  1803,  2814,  3650,  3811,\n",
       "         3877,  5062,  6574,  8267,  9132, 10233, 10600, 10921, 11617,\n",
       "        11816, 11881, 12166, 13637, 14518, 14909, 15239, 16811, 17982,\n",
       "        18688, 18958, 19515, 19529, 19633, 19910, 20137, 21414]),)"
      ]
     },
     "execution_count": 55,
     "metadata": {},
     "output_type": "execute_result"
    }
   ],
   "source": [
    "np.where(p[:,1] > 0.7)"
   ]
  },
  {
   "cell_type": "code",
   "execution_count": 57,
   "metadata": {},
   "outputs": [
    {
     "data": {
      "text/plain": [
       "(array([    0,     1,     2, ..., 22602, 22603, 22604]),)"
      ]
     },
     "execution_count": 57,
     "metadata": {},
     "output_type": "execute_result"
    }
   ],
   "source": [
    "p1 = rf.predict_proba(ts[cols])\n",
    "np.where(p1[:,1] <0.4)"
   ]
  },
  {
   "cell_type": "code",
   "execution_count": 58,
   "metadata": {},
   "outputs": [],
   "source": [
    "test_case = ts.iloc[100]\n",
    "test_case1 = ts.iloc[201]"
   ]
  },
  {
   "cell_type": "code",
   "execution_count": 60,
   "metadata": {},
   "outputs": [],
   "source": [
    "binary_cols = {} \n",
    "numeric_cols = {} \n",
    "for c in cols: \n",
    "    cnt = len(tr[c].value_counts().index) \n",
    "    mnv = tr[c].min() \n",
    "    mxv = tr[c].max() \n",
    "    if cnt > 2: \n",
    "        avg = tr[c].mean() \n",
    "        std = tr[c].std() \n",
    "             #print(c, cnt, mnv, mxv, avg, std) \n",
    "        numeric_cols[c] = (cnt, mnv, mxv, avg, std) \n",
    "    elif cnt == 2: \n",
    "        binary_cols[c] = (cnt, mnv, mxv)"
   ]
  },
  {
   "cell_type": "code",
   "execution_count": 61,
   "metadata": {},
   "outputs": [],
   "source": [
    "def combinations(test_case, binary_cols, numeric_cols):\n",
    "    dat = pd.DataFrame()\n",
    "    #Work on binary variables\n",
    "    for v in binary_cols:\n",
    "        #print(binary_cols[v])\n",
    "        # assume that if min is 0 and value in test case is 0, the eature is not present, so fe flit to the other value\n",
    "        #print( binary_cols[v][1], test_case[v] )\n",
    "        if (test_case[v] == binary_cols[v][1]): # at the lower value\n",
    "            #print(v)\n",
    "            newcase = test_case.copy()\n",
    "            newcase[v] = binary_cols[v][2]\n",
    "            newcase['changed_var'] = v\n",
    "            newcase['dir'] = '+'\n",
    "            newcase['type'] = 'b'\n",
    "            #print(newcase)\n",
    "            dat=dat.append(newcase)\n",
    "        else:\n",
    "            #print(v)\n",
    "            newcase = test_case.copy()\n",
    "            newcase[v] = binary_cols[v][1]\n",
    "            newcase['changed_var'] = v\n",
    "            newcase['dir'] = '-'\n",
    "            newcase['type'] = 'b'\n",
    "            #print(newcase)\n",
    "            dat=dat.append(newcase)   \n",
    "\n",
    "\n",
    "    # now work on numeric variables\n",
    "    for v in numeric_cols:\n",
    "        # assume that we do not change values which are at their lowest value\n",
    "        \n",
    "            print(v)\n",
    "            # val + sd\n",
    "            newcase = test_case.copy()\n",
    "            newcase[v] = min(newcase[v] + numeric_cols[v][4], numeric_cols[v][2] )\n",
    "            newcase['changed_var'] = v\n",
    "            newcase['dir'] = '+'\n",
    "            newcase['type'] = 'n'\n",
    "            dat=dat.append(newcase)\n",
    "            # val -sd\n",
    "            newcase = test_case.copy()\n",
    "            newcase[v] = max(newcase[v] - numeric_cols[v][4], numeric_cols[v][1] )\n",
    "            newcase['changed_var'] = v\n",
    "            newcase['dir'] = '-'\n",
    "            newcase['type'] = 'n'\n",
    "            dat=dat.append(newcase)\n",
    "    return dat"
   ]
  },
  {
   "cell_type": "code",
   "execution_count": 62,
   "metadata": {},
   "outputs": [
    {
     "name": "stdout",
     "output_type": "stream",
     "text": [
      "age\n",
      "drugs_m0-1\n",
      "drugs_m1-2\n",
      "drugs_m2-3\n",
      "drugs_m3-4\n",
      "drugs_m4-5\n",
      "drugs_m5-6\n",
      "drugs_m6-7\n",
      "drugs_m7-8\n",
      "drugs_m8-9\n",
      "drugs_m9-10\n",
      "drugs_m10-11\n",
      "drugs_m11-12\n"
     ]
    }
   ],
   "source": [
    "dat = combinations(test_case, binary_cols, numeric_cols)"
   ]
  },
  {
   "cell_type": "code",
   "execution_count": 69,
   "metadata": {},
   "outputs": [],
   "source": [
    "def predict_combinations(dat, clf, pr): \n",
    "    probs = clf.predict_proba(dat[cols]) \n",
    "    d = pd.DataFrame(dat[['type','changed_var','dir']]) \n",
    "    d['prob'] = probs[:,1] \n",
    "    d['change'] = probs[:,1] - pr \n",
    "    return d.sort_values('change', ascending=False)"
   ]
  },
  {
   "cell_type": "code",
   "execution_count": 71,
   "metadata": {},
   "outputs": [],
   "source": [
    "pred = rf.predict_proba([test_case[cols]])[:,1]\n",
    "predc = predict_combinations(dat, rf, pred)\n"
   ]
  },
  {
   "cell_type": "code",
   "execution_count": 73,
   "metadata": {},
   "outputs": [
    {
     "name": "stdout",
     "output_type": "stream",
     "text": [
      "main confirming factors : the numbers indicate probability in the case these factors were not present:\n",
      "      type changed_var dir  prob  change\n",
      "20266    b      ELIX13   -  0.00   -0.04\n",
      "20266    b        G-17   -  0.00   -0.04\n",
      "20266    b        G-21   -  0.01   -0.03\n",
      "20266    b        G-13   -  0.02   -0.02\n",
      "20266    b      ELIX26   -  0.02   -0.02\n",
      "20266    n         age   -  0.02   -0.02\n",
      "main disconfirming factors:\n",
      "      type changed_var dir  prob  change\n",
      "20266    b         G-6   -  0.05    0.01\n",
      "20266    b        G-18   -  0.07    0.03\n"
     ]
    }
   ],
   "source": [
    "print(\"main confirming factors : the numbers indicate probability in the case these factors were not present:\")\n",
    "print(predc[(((predc['type'] =='b') & (predc['dir'] =='-')) | ((predc['type'] =='n') & (predc['dir'] =='-'))) & (predc['change'] < 0)].sort_values('change')[:10])\n",
    "print(\"main disconfirming factors:\")\n",
    "print(predc[(((predc['type'] =='b') & (predc['dir'] =='-')) | ((predc['type'] =='n') & (predc['dir'] =='-'))) & (predc['change'] > 0)].sort_values('change')[-10:])\n",
    "\n"
   ]
  },
  {
   "cell_type": "code",
   "execution_count": 74,
   "metadata": {},
   "outputs": [
    {
     "name": "stdout",
     "output_type": "stream",
     "text": [
      "age\n",
      "drugs_m0-1\n",
      "drugs_m1-2\n",
      "drugs_m2-3\n",
      "drugs_m3-4\n",
      "drugs_m4-5\n",
      "drugs_m5-6\n",
      "drugs_m6-7\n",
      "drugs_m7-8\n",
      "drugs_m8-9\n",
      "drugs_m9-10\n",
      "drugs_m10-11\n",
      "drugs_m11-12\n"
     ]
    }
   ],
   "source": [
    "data = combinations(test_case1, binary_cols, numeric_cols)\n",
    "pred1 = rf.predict_proba([test_case1[cols]])[:,1]\n",
    "predc1 = predict_combinations(dat, rf, pred1)"
   ]
  },
  {
   "cell_type": "code",
   "execution_count": 75,
   "metadata": {},
   "outputs": [
    {
     "data": {
      "text/html": [
       "<div>\n",
       "<style scoped>\n",
       "    .dataframe tbody tr th:only-of-type {\n",
       "        vertical-align: middle;\n",
       "    }\n",
       "\n",
       "    .dataframe tbody tr th {\n",
       "        vertical-align: top;\n",
       "    }\n",
       "\n",
       "    .dataframe thead th {\n",
       "        text-align: right;\n",
       "    }\n",
       "</style>\n",
       "<table border=\"1\" class=\"dataframe\">\n",
       "  <thead>\n",
       "    <tr style=\"text-align: right;\">\n",
       "      <th></th>\n",
       "      <th>type</th>\n",
       "      <th>changed_var</th>\n",
       "      <th>dir</th>\n",
       "      <th>prob</th>\n",
       "      <th>change</th>\n",
       "    </tr>\n",
       "  </thead>\n",
       "  <tbody>\n",
       "    <tr>\n",
       "      <td>20266</td>\n",
       "      <td>b</td>\n",
       "      <td>ELIX10</td>\n",
       "      <td>+</td>\n",
       "      <td>0.24</td>\n",
       "      <td>0.22</td>\n",
       "    </tr>\n",
       "    <tr>\n",
       "      <td>20266</td>\n",
       "      <td>b</td>\n",
       "      <td>ELIX5</td>\n",
       "      <td>+</td>\n",
       "      <td>0.14</td>\n",
       "      <td>0.12</td>\n",
       "    </tr>\n",
       "    <tr>\n",
       "      <td>20266</td>\n",
       "      <td>b</td>\n",
       "      <td>ELIX29</td>\n",
       "      <td>+</td>\n",
       "      <td>0.12</td>\n",
       "      <td>0.10</td>\n",
       "    </tr>\n",
       "    <tr>\n",
       "      <td>20266</td>\n",
       "      <td>b</td>\n",
       "      <td>ELIX19</td>\n",
       "      <td>+</td>\n",
       "      <td>0.12</td>\n",
       "      <td>0.10</td>\n",
       "    </tr>\n",
       "    <tr>\n",
       "      <td>20266</td>\n",
       "      <td>b</td>\n",
       "      <td>ELIX1</td>\n",
       "      <td>+</td>\n",
       "      <td>0.11</td>\n",
       "      <td>0.09</td>\n",
       "    </tr>\n",
       "    <tr>\n",
       "      <td>...</td>\n",
       "      <td>...</td>\n",
       "      <td>...</td>\n",
       "      <td>...</td>\n",
       "      <td>...</td>\n",
       "      <td>...</td>\n",
       "    </tr>\n",
       "    <tr>\n",
       "      <td>20266</td>\n",
       "      <td>b</td>\n",
       "      <td>ELIX14</td>\n",
       "      <td>+</td>\n",
       "      <td>0.01</td>\n",
       "      <td>-0.01</td>\n",
       "    </tr>\n",
       "    <tr>\n",
       "      <td>20266</td>\n",
       "      <td>b</td>\n",
       "      <td>G-21</td>\n",
       "      <td>-</td>\n",
       "      <td>0.01</td>\n",
       "      <td>-0.01</td>\n",
       "    </tr>\n",
       "    <tr>\n",
       "      <td>20266</td>\n",
       "      <td>b</td>\n",
       "      <td>G-11</td>\n",
       "      <td>+</td>\n",
       "      <td>0.01</td>\n",
       "      <td>-0.01</td>\n",
       "    </tr>\n",
       "    <tr>\n",
       "      <td>20266</td>\n",
       "      <td>b</td>\n",
       "      <td>ELIX13</td>\n",
       "      <td>-</td>\n",
       "      <td>0.00</td>\n",
       "      <td>-0.02</td>\n",
       "    </tr>\n",
       "    <tr>\n",
       "      <td>20266</td>\n",
       "      <td>b</td>\n",
       "      <td>G-17</td>\n",
       "      <td>-</td>\n",
       "      <td>0.00</td>\n",
       "      <td>-0.02</td>\n",
       "    </tr>\n",
       "  </tbody>\n",
       "</table>\n",
       "<p>84 rows × 5 columns</p>\n",
       "</div>"
      ],
      "text/plain": [
       "      type changed_var dir  prob  change\n",
       "20266    b      ELIX10   +  0.24    0.22\n",
       "20266    b       ELIX5   +  0.14    0.12\n",
       "20266    b      ELIX29   +  0.12    0.10\n",
       "20266    b      ELIX19   +  0.12    0.10\n",
       "20266    b       ELIX1   +  0.11    0.09\n",
       "...    ...         ...  ..   ...     ...\n",
       "20266    b      ELIX14   +  0.01   -0.01\n",
       "20266    b        G-21   -  0.01   -0.01\n",
       "20266    b        G-11   +  0.01   -0.01\n",
       "20266    b      ELIX13   -  0.00   -0.02\n",
       "20266    b        G-17   -  0.00   -0.02\n",
       "\n",
       "[84 rows x 5 columns]"
      ]
     },
     "execution_count": 75,
     "metadata": {},
     "output_type": "execute_result"
    }
   ],
   "source": [
    "predc1"
   ]
  },
  {
   "cell_type": "code",
   "execution_count": 76,
   "metadata": {},
   "outputs": [
    {
     "name": "stdout",
     "output_type": "stream",
     "text": [
      "main confirming factors : the numbers indicate probability in the case thee factors were not present:\n",
      "      type changed_var dir  prob  change\n",
      "20266    b      ELIX13   -  0.00   -0.02\n",
      "20266    b        G-17   -  0.00   -0.02\n",
      "20266    b        G-21   -  0.01   -0.01\n",
      "main disconfirming factors:\n",
      "      type   changed_var dir  prob  change\n",
      "20266    n    drugs_m0-1   -  0.04    0.02\n",
      "20266    n    drugs_m5-6   -  0.04    0.02\n",
      "20266    n    drugs_m7-8   -  0.04    0.02\n",
      "20266    n    drugs_m1-2   -  0.04    0.02\n",
      "20266    n    drugs_m2-3   -  0.04    0.02\n",
      "20266    n    drugs_m3-4   -  0.04    0.02\n",
      "20266    n    drugs_m6-7   -  0.04    0.02\n",
      "20266    n  drugs_m11-12   -  0.04    0.02\n",
      "20266    b           G-6   -  0.05    0.03\n",
      "20266    b          G-18   -  0.07    0.05\n"
     ]
    }
   ],
   "source": [
    "print(\"main confirming factors : the numbers indicate probability in the case thee factors were not present:\")\n",
    "print(predc1[(((predc1['type'] =='b') & (predc1['dir'] =='-')) | ((predc1['type'] =='n') & (predc1['dir'] =='-'))) & (predc1['change'] < 0)].sort_values('change')[:10])\n",
    "print(\"main disconfirming factors:\")\n",
    "print(predc1[(((predc1['type'] =='b') & (predc1['dir'] =='-')) | ((predc1['type'] =='n') & (predc1['dir'] =='-'))) & (predc1['change'] > 0)].sort_values('change')[-10:])"
   ]
  },
  {
   "cell_type": "code",
   "execution_count": null,
   "metadata": {},
   "outputs": [],
   "source": []
  }
 ],
 "metadata": {
  "kernelspec": {
   "display_name": "Python 3",
   "language": "python",
   "name": "python3"
  },
  "language_info": {
   "codemirror_mode": {
    "name": "ipython",
    "version": 3
   },
   "file_extension": ".py",
   "mimetype": "text/x-python",
   "name": "python",
   "nbconvert_exporter": "python",
   "pygments_lexer": "ipython3",
   "version": "3.7.4"
  }
 },
 "nbformat": 4,
 "nbformat_minor": 2
}
